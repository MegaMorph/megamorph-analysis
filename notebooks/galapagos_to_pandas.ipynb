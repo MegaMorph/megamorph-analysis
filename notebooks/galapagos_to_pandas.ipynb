{
 "metadata": {
  "name": "",
  "signature": "sha256:0bd55ee7fdc2fb6262892ed5764a0e8d98950aeeee96be2ac6e478ed8193cd82"
 },
 "nbformat": 3,
 "nbformat_minor": 0,
 "worksheets": [
  {
   "cells": [
    {
     "cell_type": "code",
     "collapsed": false,
     "input": [
      "def galapagos_to_pandas(in_filename='/home/ppzsb1/quickdata/GAMA_9_all_combined_gama_only_bd6.fits',\n",
      "                        out_filename=None):\n",
      "    \"\"\"Convert a GALAPAGOS multi-band catalogue to a pandas-compatible HDF5 file\"\"\"\n",
      "    from astropy.io import fits\n",
      "    import pandas as pd\n",
      "    import re\n",
      "    import tempfile\n",
      "    \n",
      "    if out_filename is None:\n",
      "        out_filename = re.sub('.fits$', '', in_filename)+'.h5'\n",
      "    data = fits.getdata(in_filename)\n",
      "    with tempfile.NamedTemporaryFile() as tmp:\n",
      "        with pd.get_store(tmp.name, mode='w') as tmpstore:\n",
      "            for n in data.names:\n",
      "                d = data[n]\n",
      "                if len(d.shape) == 1:\n",
      "                    new_cols = pd.DataFrame(d, columns=[n])\n",
      "                else:\n",
      "                    new_cols = pd.DataFrame(d, columns=['{}_{}'.format(n,b) for b in 'RUGIZYJHK'])\n",
      "                tmpstore[n] = new_cols\n",
      "            with pd.get_store(out_filename, mode='w', complib='blosc', complevel=5) as store:\n",
      "                # Use format='table' on next line to save as a pytables table \n",
      "                store.put('data', pd.concat([tmpstore[n] for n in data.names], axis=1))\n",
      "    return pd.HDFStore(out_filename)"
     ],
     "language": "python",
     "metadata": {},
     "outputs": [],
     "prompt_number": 1
    },
    {
     "cell_type": "code",
     "collapsed": false,
     "input": [
      "store = galapagos_to_pandas()"
     ],
     "language": "python",
     "metadata": {},
     "outputs": [],
     "prompt_number": 2
    },
    {
     "cell_type": "code",
     "collapsed": false,
     "input": [
      "store"
     ],
     "language": "python",
     "metadata": {},
     "outputs": [
      {
       "metadata": {},
       "output_type": "pyout",
       "prompt_number": 3,
       "text": [
        "<class 'pandas.io.pytables.HDFStore'>\n",
        "File path: /home/ppzsb1/quickdata/GAMA_9_all_combined_gama_only_bd6.h5\n",
        "/data            frame        (shape->[51838,1947])"
       ]
      }
     ],
     "prompt_number": 3
    },
    {
     "cell_type": "code",
     "collapsed": false,
     "input": [
      "store['data'].columns"
     ],
     "language": "python",
     "metadata": {},
     "outputs": [
      {
       "metadata": {},
       "output_type": "pyout",
       "prompt_number": 4,
       "text": [
        "Index([u'SPECID', u'SURVEY', u'SURVEY_CODE', u'RA', u'DEC', u'WMIN', u'WMAX', u'Z', u'NQ', u'PROB', u'FILENAME', u'URL', u'URL_IMG', u'CATAID', u'GAMA_NAME', u'IC_FLAG', u'DIST', u'IS_SBEST', u'IS_BEST', u'NUMBER', u'X_IMAGE', u'Y_IMAGE', u'CXX_IMAGE', u'CYY_IMAGE', u'CXY_IMAGE', u'THETA_IMAGE', u'THETA_WORLD', u'ELLIPTICITY', u'KRON_RADIUS', u'A_IMAGE', u'B_IMAGE', u'ALPHA_J2000', u'DELTA_J2000', u'BACKGROUND', u'FLUX_BEST', u'FLUXERR_BEST', u'MAG_BEST', u'MAGERR_BEST', u'FLUX_RADIUS', u'ISOAREA_IMAGE', u'FWHM_IMAGE', u'FLAGS', u'CLASS_STAR', u'FLAG_GALFIT', u'NITER_GALFIT', u'NEIGH_GALFIT', u'CHISQ_GALFIT', u'VERSION_GALFIT', u'FIRSTCON_GALFIT', u'LASTCON_GALFIT', u'NDOF_GALFIT', u'NFREE_GALFIT', u'NFIX_GALFIT', u'CHI2NU_GALFIT', u'INITFILE', u'CONSTRNT', u'FITSECT', u'CONVBOX', u'CPUTIME_SETUP_GALFIT', u'CPUTIME_FIT_GALFIT', u'CPUTIME_TOTAL_GALFIT', u'ORG_IMAGE', u'FILE_GALFIT', u'X_GALFIT', u'XERR_GALFIT', u'X_GALFIT_CHEB_R', u'X_GALFIT_CHEB_U', u'X_GALFIT_CHEB_G', u'X_GALFIT_CHEB_I', u'X_GALFIT_CHEB_Z', u'X_GALFIT_CHEB_Y', u'X_GALFIT_CHEB_J', u'X_GALFIT_CHEB_H', u'X_GALFIT_CHEB_K', u'XERR_GALFIT_CHEB_R', u'XERR_GALFIT_CHEB_U', u'XERR_GALFIT_CHEB_G', u'XERR_GALFIT_CHEB_I', u'XERR_GALFIT_CHEB_Z', u'XERR_GALFIT_CHEB_Y', u'XERR_GALFIT_CHEB_J', u'XERR_GALFIT_CHEB_H', u'XERR_GALFIT_CHEB_K', u'Y_GALFIT', u'YERR_GALFIT', u'Y_GALFIT_CHEB_R', u'Y_GALFIT_CHEB_U', u'Y_GALFIT_CHEB_G', u'Y_GALFIT_CHEB_I', u'Y_GALFIT_CHEB_Z', u'Y_GALFIT_CHEB_Y', u'Y_GALFIT_CHEB_J', u'Y_GALFIT_CHEB_H', u'Y_GALFIT_CHEB_K', u'YERR_GALFIT_CHEB_R', u'YERR_GALFIT_CHEB_U', u'YERR_GALFIT_CHEB_G', u'YERR_GALFIT_CHEB_I', u'YERR_GALFIT_CHEB_Z', u'YERR_GALFIT_CHEB_Y', ...], dtype='object')"
       ]
      }
     ],
     "prompt_number": 4
    }
   ],
   "metadata": {}
  }
 ]
}